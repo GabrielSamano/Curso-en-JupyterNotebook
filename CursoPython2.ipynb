{
 "cells": [
  {
   "cell_type": "markdown",
   "metadata": {},
   "source": [
    "## Listas y Tuplas en Python\n",
    "- Las listas se utilizan para almacenar varios elementos en una sola variable.\n",
    "- Las listas se crean entre corchetes.\n",
    "- La lista es cambiable, lo que significa que podemos cambiar, agregar y eliminar elementos en una lista después de que se haya creado."
   ]
  },
  {
   "cell_type": "code",
   "execution_count": 6,
   "metadata": {},
   "outputs": [
    {
     "name": "stdout",
     "output_type": "stream",
     "text": [
      "['Series', 'Peliculas', 'Documentales', 'Batman']\n",
      "4\n",
      "Peliculas\n",
      "Batman\n",
      "['Peliculas', 'Documentales', 'Batman']\n",
      "['Series', 'Peliculas', 'Documentales']\n"
     ]
    }
   ],
   "source": [
    "# Ejemplo de una lista\n",
    "miLista = [\"Series\",\"Peliculas\",\"Documentales\",\"Batman\"]\n",
    "print(miLista)\n",
    "print(len(miLista))\n",
    "\n",
    "# Acceder a elementos de una lista por medio del indice del elemento\n",
    "# El primer elemento tiene indice 0\n",
    "print(miLista[1])\n",
    "# Cuando se selecciona el indice negativo eso quiere decir que contara desde el final de la lista\n",
    "print(miLista[-1])\n",
    "# Especificar rango de indices\n",
    "print(miLista[1:])\n",
    "print(miLista[:3])\n"
   ]
  }
 ],
 "metadata": {
  "kernelspec": {
   "display_name": "Python 3.8.10 32-bit",
   "language": "python",
   "name": "python3"
  },
  "language_info": {
   "codemirror_mode": {
    "name": "ipython",
    "version": 3
   },
   "file_extension": ".py",
   "mimetype": "text/x-python",
   "name": "python",
   "nbconvert_exporter": "python",
   "pygments_lexer": "ipython3",
   "version": "3.8.10"
  },
  "orig_nbformat": 4,
  "vscode": {
   "interpreter": {
    "hash": "5127ec39561886054db8b1d36ccbc69ef5f981670260d6774e464f3da39b2600"
   }
  }
 },
 "nbformat": 4,
 "nbformat_minor": 2
}
