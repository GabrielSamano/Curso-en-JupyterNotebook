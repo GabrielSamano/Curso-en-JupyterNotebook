{
 "cells": [
  {
   "cell_type": "markdown",
   "metadata": {},
   "source": [
    "# Empezando el curso de python :\n",
    "¿Que es una variable?\n",
    "Las variables son contenedores para almacenar valores de datos."
   ]
  },
  {
   "cell_type": "code",
   "execution_count": 13,
   "metadata": {},
   "outputs": [
    {
     "name": "stdout",
     "output_type": "stream",
     "text": [
      "15 Es un valor de tipo entero\n",
      "Angel Es un dato de tipo String\n",
      "c es un tipo de dato booleano\n"
     ]
    }
   ],
   "source": [
    "a = 15\n",
    "b = \"Angel\"\n",
    "c = True\n",
    "\n",
    "print(str(a)+\" Es un valor de tipo entero\")\n",
    "print(b + \" Es un dato de tipo String\")\n",
    "print(\"c es un tipo de dato booleano\")\n",
    "\n",
    "\n"
   ]
  },
  {
   "cell_type": "markdown",
   "metadata": {},
   "source": [
    "## Tipos de Datos\n",
    "> Existen diferentes tipos de datos que podemos manipular\n",
    "- Tipo de texto: str\n",
    "- Tipo numerico: int, float\n",
    "- Tipo de secuencia: list, tuple\n",
    "- Tipo booleano: bool\n"
   ]
  },
  {
   "cell_type": "code",
   "execution_count": 14,
   "metadata": {},
   "outputs": [
    {
     "name": "stdout",
     "output_type": "stream",
     "text": [
      "<class 'str'>\n",
      "<class 'int'>\n",
      "<class 'float'>\n",
      "<class 'list'>\n",
      "<class 'tuple'>\n",
      "<class 'bool'>\n"
     ]
    }
   ],
   "source": [
    "a = \"Hola Mundo\"\n",
    "b = 20\n",
    "c= 20.0\n",
    "x = [\"Manzana\", \"Ferrari\", \"Logo\"]\n",
    "y = (\"Series\", \"Peliculas\", \"Documentales\")\n",
    "z = False\n",
    "\n",
    "print(type(a))\n",
    "print(type(b))\n",
    "print(type(c))\n",
    "print(type(x))\n",
    "print(type(y))\n",
    "print(type(z))\n"
   ]
  }
 ],
 "metadata": {
  "kernelspec": {
   "display_name": "Python 3.8.10 32-bit",
   "language": "python",
   "name": "python3"
  },
  "language_info": {
   "codemirror_mode": {
    "name": "ipython",
    "version": 3
   },
   "file_extension": ".py",
   "mimetype": "text/x-python",
   "name": "python",
   "nbconvert_exporter": "python",
   "pygments_lexer": "ipython3",
   "version": "3.8.10"
  },
  "orig_nbformat": 4,
  "vscode": {
   "interpreter": {
    "hash": "5127ec39561886054db8b1d36ccbc69ef5f981670260d6774e464f3da39b2600"
   }
  }
 },
 "nbformat": 4,
 "nbformat_minor": 2
}
